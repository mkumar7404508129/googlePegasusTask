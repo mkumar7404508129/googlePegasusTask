{
  "nbformat": 4,
  "nbformat_minor": 0,
  "metadata": {
    "colab": {
      "name": "taskApplyPegasusXsumModel.ipynb",
      "provenance": [],
      "collapsed_sections": [
        "JxZB3FHJB6ML",
        "eYqonrjgCtF7",
        "aMxas3HgEjlf"
      ],
      "authorship_tag": "ABX9TyPuxHYLq/Arl6kjyaakCazN"
    },
    "kernelspec": {
      "name": "python3",
      "display_name": "Python 3"
    },
    "language_info": {
      "name": "python"
    },
    "accelerator": "GPU"
  },
  "cells": [
    {
      "cell_type": "markdown",
      "source": [
        "# Installing essential modules"
      ],
      "metadata": {
        "id": "JxZB3FHJB6ML"
      }
    },
    {
      "cell_type": "code",
      "execution_count": null,
      "metadata": {
        "id": "VcdXgxQV5caN"
      },
      "outputs": [],
      "source": [
        "!pip install transformers\n",
        "!pip install transformers[flax]\n",
        "!pip install transformers[torch]\n",
        "!pip install transformers[tf-cpu]"
      ]
    },
    {
      "cell_type": "markdown",
      "source": [
        "# Importing modules\n",
        "## PEGASUS: A State-of-the-Art Model for Abstractive Text Summarization"
      ],
      "metadata": {
        "id": "eYqonrjgCtF7"
      }
    },
    {
      "cell_type": "code",
      "source": [
        "\n",
        "from transformers import PegasusForConditionalGeneration, PegasusTokenizer\n",
        "import torch"
      ],
      "metadata": {
        "id": "QjFtJW0h6q_m"
      },
      "execution_count": 2,
      "outputs": []
    },
    {
      "cell_type": "markdown",
      "source": [
        "#  CUDA Python provides a driver and runtime API for existing toolkits and libraries to simplify GPU-based accelerated processing"
      ],
      "metadata": {
        "id": "aMxas3HgEjlf"
      }
    },
    {
      "cell_type": "markdown",
      "source": [
        "#PegasusTokenizer\n",
        "This tokenizer inherits from PreTrainedTokenizer which contains most of the main methods"
      ],
      "metadata": {
        "id": "NeRjAG60ErQf"
      }
    },
    {
      "cell_type": "code",
      "source": [
        "model_name = \"google/pegasus-xsum\"\n",
        "device = \"cuda\" if torch.cuda.is_available() else \"cpu\"\n",
        "tokenizer = PegasusTokenizer.from_pretrained(model_name)"
      ],
      "metadata": {
        "id": "k_6ck48K74cD"
      },
      "execution_count": 20,
      "outputs": []
    },
    {
      "cell_type": "markdown",
      "source": [
        "#PegasusForConditionalGeneration\n",
        "This model inherits from PreTrainedModel.\n",
        "\n",
        "# Here we get train model"
      ],
      "metadata": {
        "id": "s8D1AfoMGENZ"
      }
    },
    {
      "cell_type": "code",
      "source": [
        "model =PegasusForConditionalGeneration.from_pretrained(model_name).to(device)"
      ],
      "metadata": {
        "id": "2Z67EMJH8Fht"
      },
      "execution_count": 21,
      "outputs": []
    },
    {
      "cell_type": "code",
      "source": [
        ""
      ],
      "metadata": {
        "id": "APmGJz5aEEZ0"
      },
      "execution_count": 21,
      "outputs": []
    },
    {
      "cell_type": "code",
      "source": [
        "src_text = [\n",
        "    \"\"\"The tower is 324 metres (1,063 ft) tall, about the same height as an 81-storey building, and the tallest structure in Paris. Its base is square, measuring 125 metres (410 ft) on each side. During its construction, the Eiffel Tower surpassed the Washington Monument to become the tallest man-made structure in the world, a title it held for 41 years until the Chrysler Building in New York City was finished in 1930. It was the first structure to reach a height of 300 metres. Due to the addition of a broadcasting aerial at the top of the tower in 1957, it is now taller than the Chrysler Building by 5.2 metres (17 ft). Excluding transmitters, the Eiffel Tower is the second tallest free-standing structure in France after the Millau Viaduct\"\"\"\n",
        "]\n"
      ],
      "metadata": {
        "id": "wP5t2tdqA2Ov"
      },
      "execution_count": 22,
      "outputs": []
    },
    {
      "cell_type": "markdown",
      "source": [
        "# Model generation"
      ],
      "metadata": {
        "id": "8mESiu8JIM2i"
      }
    },
    {
      "cell_type": "code",
      "source": [
        "batch = tokenizer(src_text, truncation=True, padding=\"longest\", return_tensors=\"pt\").to(device)\n",
        "translated = model.generate(**batch)"
      ],
      "metadata": {
        "id": "IevyXWiPAQ48"
      },
      "execution_count": 23,
      "outputs": []
    },
    {
      "cell_type": "markdown",
      "source": [
        "# Giving Result"
      ],
      "metadata": {
        "id": "laZvNSFdIWQo"
      }
    },
    {
      "cell_type": "code",
      "source": [
        "tgt_text = tokenizer.batch_decode(translated, skip_special_tokens=True)"
      ],
      "metadata": {
        "id": "m38h-1KKAwul"
      },
      "execution_count": 24,
      "outputs": []
    },
    {
      "cell_type": "code",
      "source": [
        "tgt_text"
      ],
      "metadata": {
        "colab": {
          "base_uri": "https://localhost:8080/"
        },
        "id": "e3f4G4orBCe2",
        "outputId": "4260e21e-4f57-47b4-de93-9b05a9c5511a"
      },
      "execution_count": 25,
      "outputs": [
        {
          "output_type": "execute_result",
          "data": {
            "text/plain": [
              "['The Eiffel Tower is one of the most famous buildings in the world.']"
            ]
          },
          "metadata": {},
          "execution_count": 25
        }
      ]
    },
    {
      "cell_type": "markdown",
      "source": [
        "# Simple example as a program "
      ],
      "metadata": {
        "id": "kPBVu98_Iha6"
      }
    },
    {
      "cell_type": "code",
      "source": [
        "while(True):\n",
        "  text = input(\"Enter The Paragraph \\n\\n\")\n",
        "  batch = tokenizer(text, truncation=True, padding=\"longest\", return_tensors=\"pt\").to(device)\n",
        "  translated = model.generate(**batch)\n",
        "  tgt_text = tokenizer.batch_decode(translated, skip_special_tokens=True)\n",
        "  print(\"\\n\\n Summary of Paragraph is: \\n\\n\",tgt_text[0],end=\"\\n\\n\\n\")\n",
        "  check=input(\"Want To test More? (Y/N)\")\n",
        "  if check.lower()=='n' or check.lower()=='no':\n",
        "    break;\n"
      ],
      "metadata": {
        "colab": {
          "base_uri": "https://localhost:8080/"
        },
        "id": "Vt8179eTBFeU",
        "outputId": "44d8bc8d-0f1e-4a4f-f01a-2d10305767bd"
      },
      "execution_count": 30,
      "outputs": [
        {
          "name": "stdout",
          "output_type": "stream",
          "text": [
            "Enter The Paragraph \n",
            "\n",
            "Online Grammar and Writing Checker To Help You Deliver Impeccable, Mistake-free Writing. Grammarly Has a Tool For Just About Every Kind Of Writing You Do. Try It Out For Yourself! Eliminate Grammar Errors. Fix Punctuation Errors. Easily Improve Any Text.\n",
            "\n",
            "\n",
            " Summary of Paragraph is: \n",
            "\n",
            " Online Grammar and Writing Checker To Help You Deliver Impeccable, Mistake-free Writing.\n",
            "\n",
            "\n",
            "Want To test More? (Y/N)y\n",
            "Enter The Paragraph \n",
            "\n",
            "Peragraph meaning in Hindi : Get meaning and translation of Peragraph in Hindi language with grammar,antonyms,synonyms and sentence usages.\n",
            "\n",
            "\n",
            " Summary of Paragraph is: \n",
            "\n",
            " What is Peragraph?\n",
            "\n",
            "\n",
            "Want To test More? (Y/N)y\n",
            "Enter The Paragraph \n",
            "\n",
            "This word (Peragraph) may be misspelled. Below you can find the suggested words which we believe are the correct spellings for what you were searching for.\n",
            "\n",
            "\n",
            " Summary of Paragraph is: \n",
            "\n",
            " The word list 888-353-1299 888-353-1299 888-353-1299 888-353-1299 888-353-1299 888-353-1299 888-353-1299 888-353-1299 888-353-1299 888-353-1299 888-353-1299 888-353-1299 888-353-1299 888-353-1299 888-353-1299 888-353-1299 888-353-1299 888-353-1299 888-353-1299 888-353-1299 888-353-1299 888-353-1299 888-353-1299 888-353-1299 888-353-1299 888-353-1299 888-353-1299 888-353-1299 888-353-1299 888-353-1299 888-353-1299 888-353-1299 888-353-1299 888-353-1299 888-353-1299 888-353-1299 888-353-1299 888-353-1299 888-353-1299 888-353-1299 888-353-1299 888-353-1299 888-353-1299 888-353-1299 888-353-1299 888-353-1299 888-353-1299 888-353-1299 888-353-1299 888-353-1299 888-353-1299 888-353-1299 888-353-1299 888-353-1299 888-353-1299 888-353-1299 888-353-1299 888-353-1299 888-353-1299\n",
            "\n",
            "\n",
            "Want To test More? (Y/N)y\n",
            "Enter The Paragraph \n",
            "\n",
            "Showing if peragraph is right spelling or not. This page help you find right spelling of peragraph. See correct spelling for peragraph\n",
            "\n",
            "\n",
            " Summary of Paragraph is: \n",
            "\n",
            " All spellings and meanings of peragraph can be found here.\n",
            "\n",
            "\n",
            "Want To test More? (Y/N)n\n"
          ]
        }
      ]
    },
    {
      "cell_type": "code",
      "source": [
        ""
      ],
      "metadata": {
        "id": "kG5-jZq0KSfK"
      },
      "execution_count": null,
      "outputs": []
    }
  ]
}